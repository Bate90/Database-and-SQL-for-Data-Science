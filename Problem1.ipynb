# Rows in Crime table
%sql SELETE COUNT(*) AS TOTAL_CRIMES \
  FROM CHICAGO_CRIME_DATA
  * https://github.com/Bate90/Database-and-SQL-for-Data-Science/blob/4fc3aac8c708027fe76296062312fdcedac51c6a/ChicagoCrimeData.csv
total_crimes
